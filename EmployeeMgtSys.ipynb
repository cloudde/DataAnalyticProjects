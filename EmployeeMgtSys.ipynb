{
  "metadata": {
    "kernelspec": {
      "name": "python",
      "display_name": "Python (Pyodide)",
      "language": "python"
    },
    "language_info": {
      "name": ""
    }
  },
  "nbformat_minor": 5,
  "nbformat": 4,
  "cells": [
    {
      "id": "9a9f25e0-e020-4e40-8746-0305efedd7e3",
      "cell_type": "code",
      "source": "import mysql.connector\n\n# Database connection\ncon = mysql.connector.connect(\n    host=\"localhost\",\n    user=\"root\",\n    password=\"password\",\n    database=\"emp\"\n)\n\ncursor = con.cursor()\n\n# Function to check if an employee exists\ndef check_employee(employee_id):\n    sql = 'SELECT * FROM employees WHERE id=%s'\n    cursor.execute(sql, (employee_id,))\n    return cursor.rowcount == 1\n\n# Function to add an employee\ndef add_employee():\n    Id = input(\"Enter Employee Id: \")\n    if check_employee(Id):\n        print(\"Employee already exists. Please try again.\")\n        return\n    \n    Name = input(\"Enter Employee Name: \")\n    Post = input(\"Enter Employee Post: \")\n    Salary = input(\"Enter Employee Salary: \")\n\n    sql = 'INSERT INTO employees (id, name, position, salary) VALUES (%s, %s, %s, %s)'\n    data = (Id, Name, Post, Salary)\n    try:\n        cursor.execute(sql, data)\n        con.commit()\n        print(\"Employee Added Successfully\")\n    except mysql.connector.Error as err:\n        print(f\"Error: {err}\")\n        con.rollback()\n\n# Function to remove an employee\ndef remove_employee():\n    Id = input(\"Enter Employee Id: \")\n    if not check_employee(Id):\n        print(\"Employee does not exist. Please try again.\")\n        return\n    \n    sql = 'DELETE FROM employees WHERE id=%s'\n    data = (Id,)\n    try:\n        cursor.execute(sql, data)\n        con.commit()\n        print(\"Employee Removed Successfully\")\n    except mysql.connector.Error as err:\n        print(f\"Error: {err}\")\n        con.rollback()\n\n# Function to promote an employee\ndef promote_employee():\n    Id = input(\"Enter Employee's Id: \")\n    if not check_employee(Id):\n        print(\"Employee does not exist. Please try again.\")\n        return\n    \n    try:\n        Amount = float(input(\"Enter increase in Salary: \"))\n\n        sql_select = 'SELECT salary FROM employees WHERE id=%s'\n        cursor.execute(sql_select, (Id,))\n        current_salary = cursor.fetchone()[0]\n        new_salary = current_salary + Amount\n\n        sql_update = 'UPDATE employees SET salary=%s WHERE id=%s'\n        cursor.execute(sql_update, (new_salary, Id))\n        con.commit()\n        print(\"Employee Promoted Successfully\")\n\n    except (ValueError, mysql.connector.Error) as e:\n        print(f\"Error: {e}\")\n        con.rollback()\n\n# Function to display all employees\ndef display_employees():\n    try:\n        sql = 'SELECT * FROM employees'\n        cursor.execute(sql)\n        employees = cursor.fetchall()\n        for employee in employees:\n            print(\"Employee Id : \", employee[0])\n            print(\"Employee Name : \", employee[1])\n            print(\"Employee Post : \", employee[2])\n            print(\"Employee Salary : \", employee[3])\n            print(\"------------------------------------\")\n\n    except mysql.connector.Error as err:\n        print(f\"Error: {err}\")\n\n# Function to display the menu\ndef menu():\n    while True:\n        print(\"\\nWelcome to Employee Management Record\")\n        print(\"Press:\")\n        print(\"1 to Add Employee\")\n        print(\"2 to Remove Employee\")\n        print(\"3 to Promote Employee\")\n        print(\"4 to Display Employees\")\n        print(\"5 to Exit\")\n        \n        ch = input(\"Enter your Choice: \")\n\n        if ch == '1':\n            add_employee()\n        elif ch == '2':\n            remove_employee()\n        elif ch == '3':\n            promote_employee()\n        elif ch == '4':\n            display_employees()\n        elif ch == '5':\n            print(\"Exiting the program. Goodbye!\")\n            break\n        else:\n            print(\"Invalid Choice! Please try again.\")\n\nif __name__ == \"__main__\":\n    menu()\n",
      "metadata": {
        "trusted": true
      },
      "outputs": [],
      "execution_count": null
    }
  ]
}